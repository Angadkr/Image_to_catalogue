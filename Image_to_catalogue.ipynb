{
  "nbformat": 4,
  "nbformat_minor": 0,
  "metadata": {
    "colab": {
      "provenance": [],
      "gpuType": "T4",
      "authorship_tag": "ABX9TyPxAeIhvhJx2b41iNQHVlmA",
      "include_colab_link": true
    },
    "kernelspec": {
      "name": "python3",
      "display_name": "Python 3"
    },
    "language_info": {
      "name": "python"
    },
    "accelerator": "GPU"
  },
  "cells": [
    {
      "cell_type": "markdown",
      "metadata": {
        "id": "view-in-github",
        "colab_type": "text"
      },
      "source": [
        "<a href=\"https://colab.research.google.com/github/Angadkr/Image_to_catalogue/blob/main/Image_to_catalogue.ipynb\" target=\"_parent\"><img src=\"https://colab.research.google.com/assets/colab-badge.svg\" alt=\"Open In Colab\"/></a>"
      ]
    },
    {
      "cell_type": "code",
      "execution_count": null,
      "metadata": {
        "colab": {
          "base_uri": "https://localhost:8080/"
        },
        "id": "Y1las5pufvLw",
        "outputId": "8c42b7a0-7101-4b0e-e5a2-3791a6119393"
      },
      "outputs": [
        {
          "output_type": "stream",
          "name": "stdout",
          "text": [
            "Mounted at /content/drive\n",
            "Upload your raw images to: /content/drive/MyDrive/cloth_catalog_project/input_images\n",
            "Processed catalog images will be saved to: /content/drive/MyDrive/cloth_catalog_project/output_catalogs\n"
          ]
        }
      ],
      "source": [
        "# ✅ STEP 1: Setup + Mount Google Drive\n",
        "\n",
        "from google.colab import drive\n",
        "import os\n",
        "\n",
        "# Mount Google Drive\n",
        "drive.mount('/content/drive')\n",
        "\n",
        "# Create project directories in Drive\n",
        "project_root = \"/content/drive/MyDrive/cloth_catalog_project\"\n",
        "input_folder = os.path.join(project_root, \"input_images\")\n",
        "output_folder = os.path.join(project_root, \"output_catalogs\")\n",
        "\n",
        "os.makedirs(input_folder, exist_ok=True)\n",
        "os.makedirs(output_folder, exist_ok=True)\n",
        "\n",
        "print(f\"Upload your raw images to: {input_folder}\")\n",
        "print(f\"Processed catalog images will be saved to: {output_folder}\")\n"
      ]
    },
    {
      "cell_type": "code",
      "source": [
        "import os\n",
        "import subprocess\n",
        "\n",
        "# Use local working directory\n",
        "project_dir = os.path.join(os.getcwd(), \"u2net_catalog_project\")\n",
        "os.makedirs(project_dir, exist_ok=True)\n",
        "\n",
        "# Clone U²-Net repository\n",
        "repo_path = os.path.join(project_dir, \"U-2-Net\")\n",
        "if not os.path.exists(repo_path):\n",
        "    subprocess.run([\"git\", \"clone\", \"https://github.com/xuebinqin/U-2-Net.git\", repo_path])\n",
        "\n",
        "# Download the model\n",
        "model_dir = os.path.join(repo_path, \"saved_models\", \"u2net\")\n",
        "os.makedirs(model_dir, exist_ok=True)\n",
        "model_path = os.path.join(model_dir, \"u2net.pth\")\n",
        "\n",
        "if not os.path.exists(model_path):\n",
        "    subprocess.run([\n",
        "        \"wget\", \"-O\", model_path,\n",
        "        \"https://github.com/xuebinqin/U-2-Net/releases/download/v1.0/u2net.pth\"\n",
        "    ])\n",
        "\n",
        "print(\"✅ U²-Net setup complete.\")\n"
      ],
      "metadata": {
        "colab": {
          "base_uri": "https://localhost:8080/"
        },
        "id": "u1SgtOrfYkgp",
        "outputId": "5f855f76-d0ca-4500-ffc8-b53d4a214663"
      },
      "execution_count": null,
      "outputs": [
        {
          "output_type": "stream",
          "name": "stdout",
          "text": [
            "✅ U²-Net setup complete.\n"
          ]
        }
      ]
    },
    {
      "cell_type": "code",
      "source": [
        "import torch\n",
        "from torch.autograd import Variable\n",
        "from torchvision import transforms\n",
        "from PIL import Image\n",
        "import numpy as np\n",
        "import os\n",
        "import cv2\n",
        "import sys\n",
        "\n",
        "# ✅ Add model path to Python path\n",
        "sys.path.append(\"u2net_catalog_project/U-2-Net\")\n",
        "\n",
        "# ✅ Import model\n",
        "from model import U2NET  # or from model import U2NETP for small version\n",
        "\n",
        "# ✅ Load model\n",
        "model_path = \"u2net_catalog_project/U-2-Net/saved_models/u2net/u2net.pth\"\n",
        "net = U2NET(3, 1)\n",
        "net.load_state_dict(torch.load(model_path, map_location='cpu'))\n",
        "net.eval()\n",
        "\n",
        "print(\"✅ U²-Net model loaded.\")\n"
      ],
      "metadata": {
        "colab": {
          "base_uri": "https://localhost:8080/"
        },
        "id": "pwaIc0uIZ2Bq",
        "outputId": "b81fca8e-8be2-44c2-dba5-09eaf8906db4"
      },
      "execution_count": null,
      "outputs": [
        {
          "output_type": "stream",
          "name": "stdout",
          "text": [
            "✅ U²-Net model loaded.\n"
          ]
        }
      ]
    },
    {
      "cell_type": "code",
      "source": [
        "# Preprocessing\n",
        "transform = transforms.Compose([\n",
        "    transforms.Resize((320, 320)),\n",
        "    transforms.ToTensor(),\n",
        "    transforms.Normalize([0.485, 0.456, 0.406],\n",
        "                         [0.229, 0.224, 0.225])\n",
        "])\n",
        "\n",
        "def norm_pred(d):\n",
        "    ma = torch.max(d)\n",
        "    mi = torch.min(d)\n",
        "    dn = (d - mi) / (ma - mi)\n",
        "    return dn\n",
        "\n",
        "def save_output(image_name, pred, output_dir):\n",
        "    pred = pred.squeeze().cpu().data.numpy()\n",
        "    mask = (pred * 255).astype(np.uint8)\n",
        "    mask = cv2.resize(mask, (orig_w, orig_h))\n",
        "    mask = cv2.merge([mask, mask, mask])\n",
        "\n",
        "    # Open original image\n",
        "    orig = cv2.imread(image_name)\n",
        "    orig = cv2.resize(orig, (orig_w, orig_h))\n",
        "\n",
        "    # Composite over white\n",
        "    white_bg = np.ones_like(orig) * 255\n",
        "    alpha = mask[:, :, 0] / 255.0\n",
        "    comp = alpha[..., None] * orig + (1 - alpha[..., None]) * white_bg\n",
        "\n",
        "    # Save\n",
        "    cv2.imwrite(os.path.join(output_dir, os.path.basename(image_name)), comp)\n",
        "    print(f\"✅ Saved: {os.path.basename(image_name)}\")\n"
      ],
      "metadata": {
        "id": "wu7X6j9teso_"
      },
      "execution_count": null,
      "outputs": []
    },
    {
      "cell_type": "code",
      "source": [
        "input_path = \"u2net_catalog_project/input_images/test.jpg\"\n",
        "output_dir = \"u2net_catalog_project/output_catalogs\"\n",
        "os.makedirs(output_dir, exist_ok=True)\n",
        "\n",
        "# Original size\n",
        "img = Image.open(input_path).convert('RGB')\n",
        "orig_w, orig_h = img.size\n",
        "\n",
        "# Preprocess\n",
        "image_tensor = transform(img).unsqueeze(0)\n",
        "image_tensor = Variable(image_tensor)\n",
        "\n",
        "# Run model\n",
        "with torch.no_grad():\n",
        "    d1, _, _, _, _, _, _ = net(image_tensor)\n",
        "\n",
        "# Normalize + Save\n",
        "pred = norm_pred(d1[:, 0, :, :])\n",
        "save_output(input_path, pred, output_dir)\n"
      ],
      "metadata": {
        "colab": {
          "base_uri": "https://localhost:8080/"
        },
        "id": "7ew2jL3ne0Fm",
        "outputId": "7c7aca79-c475-4146-c20c-6ba159d8b7cd"
      },
      "execution_count": null,
      "outputs": [
        {
          "output_type": "stream",
          "name": "stdout",
          "text": [
            "✅ Saved: test.jpg\n"
          ]
        }
      ]
    }
  ]
}